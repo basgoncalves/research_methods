{
 "cells": [
  {
   "cell_type": "markdown",
   "metadata": {},
   "source": [
    "# Create data"
   ]
  },
  {
   "cell_type": "code",
   "execution_count": 1,
   "metadata": {},
   "outputs": [
    {
     "data": {
      "text/html": [
       "<div>\n",
       "<style scoped>\n",
       "    .dataframe tbody tr th:only-of-type {\n",
       "        vertical-align: middle;\n",
       "    }\n",
       "\n",
       "    .dataframe tbody tr th {\n",
       "        vertical-align: top;\n",
       "    }\n",
       "\n",
       "    .dataframe thead th {\n",
       "        text-align: right;\n",
       "    }\n",
       "</style>\n",
       "<table border=\"1\" class=\"dataframe\">\n",
       "  <thead>\n",
       "    <tr style=\"text-align: right;\">\n",
       "      <th></th>\n",
       "      <th>Group</th>\n",
       "      <th>Person</th>\n",
       "      <th>Throw</th>\n",
       "      <th>Score</th>\n",
       "    </tr>\n",
       "  </thead>\n",
       "  <tbody>\n",
       "    <tr>\n",
       "      <th>0</th>\n",
       "      <td>1</td>\n",
       "      <td>1</td>\n",
       "      <td>1</td>\n",
       "      <td>4</td>\n",
       "    </tr>\n",
       "    <tr>\n",
       "      <th>1</th>\n",
       "      <td>1</td>\n",
       "      <td>1</td>\n",
       "      <td>2</td>\n",
       "      <td>2</td>\n",
       "    </tr>\n",
       "    <tr>\n",
       "      <th>2</th>\n",
       "      <td>1</td>\n",
       "      <td>1</td>\n",
       "      <td>3</td>\n",
       "      <td>1</td>\n",
       "    </tr>\n",
       "    <tr>\n",
       "      <th>3</th>\n",
       "      <td>1</td>\n",
       "      <td>1</td>\n",
       "      <td>4</td>\n",
       "      <td>10</td>\n",
       "    </tr>\n",
       "    <tr>\n",
       "      <th>4</th>\n",
       "      <td>1</td>\n",
       "      <td>1</td>\n",
       "      <td>5</td>\n",
       "      <td>10</td>\n",
       "    </tr>\n",
       "  </tbody>\n",
       "</table>\n",
       "</div>"
      ],
      "text/plain": [
       "   Group  Person  Throw  Score\n",
       "0      1       1      1      4\n",
       "1      1       1      2      2\n",
       "2      1       1      3      1\n",
       "3      1       1      4     10\n",
       "4      1       1      5     10"
      ]
     },
     "execution_count": 1,
     "metadata": {},
     "output_type": "execute_result"
    }
   ],
   "source": [
    "import pandas as pd\n",
    "import numpy as np\n",
    "\n",
    "class Experiment:\n",
    "    def __init__(self, groups, people_per_group, throws_per_person):\n",
    "        self.groups = groups\n",
    "        self.people_per_group = people_per_group\n",
    "        self.throws_per_person = throws_per_person\n",
    "        self.results = pd.DataFrame()\n",
    "\n",
    "    def run_experiment(self):\n",
    "        data = []\n",
    "        for group in range(1, self.groups + 1):\n",
    "            for person in range(1, self.people_per_group + 1):\n",
    "                scores = np.random.randint(1, 11, self.throws_per_person)\n",
    "                for throw in range(1, self.throws_per_person + 1):\n",
    "                    data.append([group, person, throw, scores[throw - 1]])\n",
    "        self.results = pd.DataFrame(data, columns=['Group', 'Person', 'Throw', 'Score'])\n",
    "\n",
    "    def save_results(self, filename):\n",
    "        self.results.to_csv(filename, index=False)\n",
    "\n",
    "# Create an instance of the Experiment class\n",
    "experiment = Experiment(groups=4, people_per_group=3, throws_per_person=10)\n",
    "\n",
    "# Run the experiment\n",
    "experiment.run_experiment()\n",
    "\n",
    "# Save the results to a CSV file\n",
    "experiment.save_results('results_throws.csv')\n",
    "\n",
    "# Display the results\n",
    "experiment.results.head()"
   ]
  },
  {
   "cell_type": "code",
   "execution_count": null,
   "metadata": {},
   "outputs": [],
   "source": []
  }
 ],
 "metadata": {
  "kernelspec": {
   "display_name": "msk_modelling",
   "language": "python",
   "name": "python3"
  },
  "language_info": {
   "codemirror_mode": {
    "name": "ipython",
    "version": 3
   },
   "file_extension": ".py",
   "mimetype": "text/x-python",
   "name": "python",
   "nbconvert_exporter": "python",
   "pygments_lexer": "ipython3",
   "version": "3.8.10"
  }
 },
 "nbformat": 4,
 "nbformat_minor": 2
}
